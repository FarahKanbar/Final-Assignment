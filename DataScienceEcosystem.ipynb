{
 "cells": [
  {
   "cell_type": "markdown",
   "id": "1674175f-a640-4f9b-8bd7-97438a3ba5f4",
   "metadata": {},
   "source": [
    "# Data Science Tools and Ecosystem"
   ]
  },
  {
   "cell_type": "markdown",
   "id": "c7176d52-6e0a-49b6-9a49-96a4f0a9bc60",
   "metadata": {},
   "source": [
    "In this notebook, Data Science Tools and Ecosystem are summarized."
   ]
  },
  {
   "cell_type": "markdown",
   "id": "bdbfa654-8c53-4180-8b1a-07312eb59237",
   "metadata": {},
   "source": [
    "**Objectives:**"
   ]
  },
  {
   "cell_type": "markdown",
   "id": "b5d58541-9987-4faf-a82b-5de880d057d8",
   "metadata": {},
   "source": [
    "* List popular languages for Data Science\n",
    "* List commonly used libraries in Data Science\n",
    "* Learn simple arithmetic expressions in Python"
   ]
  },
  {
   "cell_type": "markdown",
   "id": "d7305cf8-c5b7-4590-87c9-5452ad233852",
   "metadata": {},
   "source": [
    "Some of the popular languages that Data Scientists use are:"
   ]
  },
  {
   "cell_type": "markdown",
   "id": "6d659ad2-f587-48e1-a3f5-230b54e0014d",
   "metadata": {},
   "source": [
    "1. Python\n",
    "2. R\n",
    "3. SQL"
   ]
  },
  {
   "cell_type": "markdown",
   "id": "b624a0c1-a796-4398-8718-a84399ef9b0d",
   "metadata": {},
   "source": [
    "Some of the commonly used libraries used by Data Scientists include:"
   ]
  },
  {
   "cell_type": "markdown",
   "id": "958b5895-0492-47e7-b750-b07757930114",
   "metadata": {},
   "source": [
    "1. Pandas\n",
    "2. NymPy\n",
    "3. Sickit-learn"
   ]
  },
  {
   "cell_type": "markdown",
   "id": "03e8a8d1-335f-43b5-881b-19a6467ecbdd",
   "metadata": {},
   "source": [
    "|Data Science Tools|\n",
    "|------------------|\n",
    "|Apache Spark|\n",
    "|TensorFlow|\n",
    "|Apache Hadoop|"
   ]
  },
  {
   "cell_type": "markdown",
   "id": "21ab7e59-bae8-4406-9dd5-fa5248e18131",
   "metadata": {},
   "source": [
    "### Below are a few examples of evaluating arithmetic expressions in Python."
   ]
  },
  {
   "cell_type": "markdown",
   "id": "3d1ff2cf-a7c8-4417-b6e6-47ba524853fc",
   "metadata": {},
   "source": [
    "This a simple arithmetic expression to mutiply then add integers"
   ]
  },
  {
   "cell_type": "code",
   "execution_count": 3,
   "id": "a8d79107-0d38-4946-a8fc-e230bd6e7e85",
   "metadata": {},
   "outputs": [
    {
     "data": {
      "text/plain": [
       "17"
      ]
     },
     "execution_count": 3,
     "metadata": {},
     "output_type": "execute_result"
    }
   ],
   "source": [
    "(3*4)+5"
   ]
  },
  {
   "cell_type": "markdown",
   "id": "5dd1fbc9-e3f3-4f8b-a2de-4916f5663129",
   "metadata": {},
   "source": [
    " This will convert 200 minutes to hours by diving by 60"
   ]
  },
  {
   "cell_type": "code",
   "execution_count": 4,
   "id": "4a8011fc-94c4-4aaf-8d04-b88581afc022",
   "metadata": {},
   "outputs": [
    {
     "data": {
      "text/plain": [
       "3.3333333333333335"
      ]
     },
     "execution_count": 4,
     "metadata": {},
     "output_type": "execute_result"
    }
   ],
   "source": [
    "200/60"
   ]
  },
  {
   "cell_type": "markdown",
   "id": "81dcaeea-4290-4c38-bf24-998bd8bc5e8a",
   "metadata": {},
   "source": [
    "## Author"
   ]
  },
  {
   "cell_type": "markdown",
   "id": "4807af94-4ead-41b8-b633-e2b5ca9ed52d",
   "metadata": {},
   "source": [
    "Farah Kanbar"
   ]
  },
  {
   "cell_type": "code",
   "execution_count": null,
   "id": "f546f3b5-ecf0-4329-b5fd-0e09aafa14d2",
   "metadata": {},
   "outputs": [],
   "source": []
  }
 ],
 "metadata": {
  "kernelspec": {
   "display_name": "Python 3 (ipykernel)",
   "language": "python",
   "name": "python3"
  },
  "language_info": {
   "codemirror_mode": {
    "name": "ipython",
    "version": 3
   },
   "file_extension": ".py",
   "mimetype": "text/x-python",
   "name": "python",
   "nbconvert_exporter": "python",
   "pygments_lexer": "ipython3",
   "version": "3.12.8"
  }
 },
 "nbformat": 4,
 "nbformat_minor": 5
}
